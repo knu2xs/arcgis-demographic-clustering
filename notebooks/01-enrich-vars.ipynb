{
 "cells": [
  {
   "cell_type": "code",
   "execution_count": 1,
   "metadata": {},
   "outputs": [],
   "source": [
    "from pathlib import Path\n",
    "\n",
    "from arcgis.features import GeoAccessor\n",
    "from arcgis.gis import GIS\n",
    "from arcgis.geoenrichment import Country\n",
    "import arcpy\n",
    "import pandas as pd\n",
    "from sklearn.cluster import KMeans\n",
    "from sklearn.decomposition import PCA\n",
    "from sklearn.preprocessing import MinMaxScaler\n",
    "\n",
    "import matplotlib.pyplot as plt\n",
    "%matplotlib inline"
   ]
  },
  {
   "cell_type": "code",
   "execution_count": 2,
   "metadata": {},
   "outputs": [],
   "source": [
    "dir_prj = Path.cwd().parent\n",
    "dir_data = dir_prj/'data'\n",
    "dir_int = dir_data/'interim'\n",
    "gdb_int = dir_int/'interim.gdb'\n",
    "\n",
    "arcpy.env.overwriteOutput = True"
   ]
  },
  {
   "cell_type": "code",
   "execution_count": 56,
   "metadata": {},
   "outputs": [],
   "source": [
    "aoi_name = 'cbsa_seattle'\n",
    "aoi_fc = gdb_int/aoi_name\n",
    "id_col = 'IDField'\n",
    "kmeans_fc = gdb_int/f'{aoi_fc.stem}_kmeans'\n",
    "\n",
    "enrich_fc = gdb_int/'block_groups_enrich'\n",
    "\n",
    "overwrite_enrich = True"
   ]
  },
  {
   "cell_type": "code",
   "execution_count": 51,
   "metadata": {},
   "outputs": [
    {
     "name": "stdout",
     "output_type": "stream",
     "text": [
      "<class 'pandas.core.frame.DataFrame'>\n",
      "RangeIndex: 2828 entries, 0 to 2827\n",
      "Data columns (total 5 columns):\n",
      " #   Column             Non-Null Count  Dtype \n",
      "---  ------             --------------  ----- \n",
      " 0   name               2828 non-null   object\n",
      " 1   alias              2828 non-null   object\n",
      " 2   data_collection    2828 non-null   object\n",
      " 3   enrich_name        2828 non-null   object\n",
      " 4   enrich_field_name  2828 non-null   object\n",
      "dtypes: object(5)\n",
      "memory usage: 110.6+ KB\n",
      "AgeDependency.CHILD_CY;AgeDependency.WORKAGE_CY;AgeDependency.SENIOR_CY;AgeDependency.CHLDDEP_CY;AgeDependency.AGEDEP_CY...\n"
     ]
    }
   ],
   "source": [
    "ev = Country('usa', gis=GIS('pro')).enrich_variables\n",
    "\n",
    "sv = ev[\n",
    "    (ev.name.str.endswith('CY'))\n",
    "    | (\n",
    "        (ev.alias.str.contains('ACS'))\n",
    "        & (~ev.alias.str.contains('\\sMOE\\s'))\n",
    "       )\n",
    "].drop_duplicates('name').reset_index(drop=True)\n",
    "\n",
    "sv.info()\n",
    "\n",
    "e_str = ';'.join(sv.enrich_name)\n",
    "\n",
    "print(f'{e_str[:120]}...')"
   ]
  },
  {
   "cell_type": "code",
   "execution_count": 57,
   "metadata": {},
   "outputs": [
    {
     "data": {
      "text/plain": [
       "'memory\\\\bg'"
      ]
     },
     "execution_count": 57,
     "metadata": {},
     "output_type": "execute_result"
    }
   ],
   "source": [
    "if not arcpy.Exists(enrich_fc) or overwrite_enrich:\n",
    "    \n",
    "    bg_fc = arcpy.ba.GenerateGeographiesFromOverlay(\n",
    "        geography_level=\"US.BlockGroups\", \n",
    "        in_features=str(aoi_fc), \n",
    "        id_field=id_col,\n",
    "        out_feature_class='memory/bg', \n",
    "        overlap_type=\"INTERSECT\", \n",
    "        ratios=\"AREA_ONLY\"\n",
    "    )[0]\n",
    "    \n",
    "bg_fc"
   ]
  },
  {
   "cell_type": "code",
   "execution_count": 60,
   "metadata": {},
   "outputs": [
    {
     "data": {
      "text/html": [
       "<h2>Output</h2>a Layer object<h2>Messages</h2>Start Time: Thursday, 14 October, 2021 17:21:45<br/>Succeeded at Thursday, 14 October, 2021 17:21:45 (Elapsed Time: 0.03 seconds)<br/><style>.rendered_html td, .rendered_html th {text-align: left;}.rendered_html tbody {border: 1px solid black;}</style>"
      ],
      "text/plain": [
       "<Result 'bg_Layer4'>"
      ]
     },
     "execution_count": 60,
     "metadata": {},
     "output_type": "execute_result"
    }
   ],
   "source": [
    "bg_lyr = arcpy.management.MakeFeatureLayer(bg_fc)[0]\n",
    "arcpy.management.SelectLayerByAttribute(bg_lyr, where_clause='Area > 0.5')\n",
    "arcpy.management.DeleteFeatures(bg_lyr)"
   ]
  },
  {
   "cell_type": "code",
   "execution_count": 54,
   "metadata": {},
   "outputs": [
    {
     "ename": "SyntaxError",
     "evalue": "'break' outside loop (<ipython-input-54-c21c2a1776d9>, line 15)",
     "output_type": "error",
     "traceback": [
      "\u001b[1;36m  File \u001b[1;32m\"<ipython-input-54-c21c2a1776d9>\"\u001b[1;36m, line \u001b[1;32m15\u001b[0m\n\u001b[1;33m    arcpy.management.SelectLayerByAttribute(bg_lyr, where_clause='Area > 0.5')\u001b[0m\n\u001b[1;37m           ^\u001b[0m\n\u001b[1;31mSyntaxError\u001b[0m\u001b[1;31m:\u001b[0m 'break' outside loop\n"
     ]
    }
   ],
   "source": [
    "bg_lyr = arcpy.management.MakeFeatureLayer(bg_fc)[0]\n",
    "    arcpy.management.SelectLayerByAttribute(bg_lyr, where_clause='Area > 0.5')\n",
    "    arcpy.management.DeleteFeatures(bg_lyr)\n",
    "\n",
    "    bg_std_fc = arcpy.ba.StandardGeographyTA(\n",
    "        geography_level=\"US.BlockGroups\", \n",
    "        out_feature_class=r\"memory/bg_std\", \n",
    "        input_type=\"TABLE\", \n",
    "        in_ids_table=bg_fc, \n",
    "        geography_key_field=\"ID\"\n",
    "    )[0]\n",
    "\n",
    "    arcpy.ba.EnrichLayer(str(bg_fc), out_feature_class=str(enrich_fc), variables=enrich_variables)"
   ]
  },
  {
   "cell_type": "code",
   "execution_count": 26,
   "metadata": {},
   "outputs": [
    {
     "name": "stdout",
     "output_type": "stream",
     "text": [
      "3,572\n"
     ]
    }
   ],
   "source": [
    "fld_lst = [f.name.lower() for f in arcpy.ListFields(str(enrich_fc))]\n",
    "\n",
    "analysis_vars = list(ev[ev.enrich_field_name.str.lower().isin(fld_lst)].drop_duplicates('name').enrich_field_name)\n",
    "\n",
    "print(f'{len(analysis_vars):,}')"
   ]
  },
  {
   "cell_type": "code",
   "execution_count": 27,
   "metadata": {},
   "outputs": [
    {
     "name": "stdout",
     "output_type": "stream",
     "text": [
      "<class 'pandas.core.frame.DataFrame'>\n",
      "RangeIndex: 2480 entries, 0 to 2479\n",
      "Columns: 3572 entries, AgeDependency_CHILD_CY to yearmovedin_RELOWNER\n",
      "dtypes: float64(3572)\n",
      "memory usage: 67.6 MB\n"
     ]
    },
    {
     "data": {
      "text/html": [
       "<div>\n",
       "<style scoped>\n",
       "    .dataframe tbody tr th:only-of-type {\n",
       "        vertical-align: middle;\n",
       "    }\n",
       "\n",
       "    .dataframe tbody tr th {\n",
       "        vertical-align: top;\n",
       "    }\n",
       "\n",
       "    .dataframe thead th {\n",
       "        text-align: right;\n",
       "    }\n",
       "</style>\n",
       "<table border=\"1\" class=\"dataframe\">\n",
       "  <thead>\n",
       "    <tr style=\"text-align: right;\">\n",
       "      <th></th>\n",
       "      <th>AgeDependency_CHILD_CY</th>\n",
       "      <th>AgeDependency_WORKAGE_CY</th>\n",
       "      <th>AgeDependency_SENIOR_CY</th>\n",
       "      <th>AgeDependency_CHLDDEP_CY</th>\n",
       "      <th>AgeDependency_AGEDEP_CY</th>\n",
       "      <th>AgeDependency_SENRDEP_CY</th>\n",
       "      <th>homevalue_ACSVAL0</th>\n",
       "      <th>homevalue_MOEVAL0</th>\n",
       "      <th>homevalue_RELVAL0</th>\n",
       "      <th>homevalue_ACSVAL10K</th>\n",
       "      <th>...</th>\n",
       "      <th>yearmovedin_ACSRMV1990</th>\n",
       "      <th>yearmovedin_MOERMV1990</th>\n",
       "      <th>yearmovedin_RELRMV1990</th>\n",
       "      <th>yearmovedin_ACSRMV1989</th>\n",
       "      <th>yearmovedin_MOERMV1989</th>\n",
       "      <th>yearmovedin_RELRMV1989</th>\n",
       "      <th>yearmovedin_ACSMEDYRMV</th>\n",
       "      <th>yearmovedin_MOEMEDYRMV</th>\n",
       "      <th>yearmovedin_RELMEDYRMV</th>\n",
       "      <th>yearmovedin_RELOWNER</th>\n",
       "    </tr>\n",
       "  </thead>\n",
       "  <tbody>\n",
       "    <tr>\n",
       "      <th>0</th>\n",
       "      <td>504.0</td>\n",
       "      <td>1128.0</td>\n",
       "      <td>137.0</td>\n",
       "      <td>44.7</td>\n",
       "      <td>56.8</td>\n",
       "      <td>12.1</td>\n",
       "      <td>0.0</td>\n",
       "      <td>12.0</td>\n",
       "      <td>0.0</td>\n",
       "      <td>0.0</td>\n",
       "      <td>...</td>\n",
       "      <td>9.0</td>\n",
       "      <td>15.0</td>\n",
       "      <td>3.0</td>\n",
       "      <td>0.0</td>\n",
       "      <td>12.0</td>\n",
       "      <td>0.0</td>\n",
       "      <td>2010.0</td>\n",
       "      <td>NaN</td>\n",
       "      <td>3.0</td>\n",
       "      <td>1.0</td>\n",
       "    </tr>\n",
       "    <tr>\n",
       "      <th>1</th>\n",
       "      <td>440.0</td>\n",
       "      <td>1079.0</td>\n",
       "      <td>143.0</td>\n",
       "      <td>40.8</td>\n",
       "      <td>54.0</td>\n",
       "      <td>13.3</td>\n",
       "      <td>19.0</td>\n",
       "      <td>31.0</td>\n",
       "      <td>3.0</td>\n",
       "      <td>0.0</td>\n",
       "      <td>...</td>\n",
       "      <td>19.0</td>\n",
       "      <td>31.0</td>\n",
       "      <td>3.0</td>\n",
       "      <td>0.0</td>\n",
       "      <td>12.0</td>\n",
       "      <td>0.0</td>\n",
       "      <td>2009.0</td>\n",
       "      <td>NaN</td>\n",
       "      <td>3.0</td>\n",
       "      <td>2.0</td>\n",
       "    </tr>\n",
       "    <tr>\n",
       "      <th>2</th>\n",
       "      <td>357.0</td>\n",
       "      <td>931.0</td>\n",
       "      <td>221.0</td>\n",
       "      <td>38.3</td>\n",
       "      <td>62.1</td>\n",
       "      <td>23.7</td>\n",
       "      <td>0.0</td>\n",
       "      <td>12.0</td>\n",
       "      <td>0.0</td>\n",
       "      <td>0.0</td>\n",
       "      <td>...</td>\n",
       "      <td>0.0</td>\n",
       "      <td>12.0</td>\n",
       "      <td>0.0</td>\n",
       "      <td>0.0</td>\n",
       "      <td>12.0</td>\n",
       "      <td>0.0</td>\n",
       "      <td>2007.0</td>\n",
       "      <td>NaN</td>\n",
       "      <td>3.0</td>\n",
       "      <td>2.0</td>\n",
       "    </tr>\n",
       "    <tr>\n",
       "      <th>3</th>\n",
       "      <td>378.0</td>\n",
       "      <td>1090.0</td>\n",
       "      <td>192.0</td>\n",
       "      <td>34.7</td>\n",
       "      <td>52.3</td>\n",
       "      <td>17.6</td>\n",
       "      <td>31.0</td>\n",
       "      <td>51.0</td>\n",
       "      <td>3.0</td>\n",
       "      <td>0.0</td>\n",
       "      <td>...</td>\n",
       "      <td>0.0</td>\n",
       "      <td>12.0</td>\n",
       "      <td>0.0</td>\n",
       "      <td>0.0</td>\n",
       "      <td>12.0</td>\n",
       "      <td>0.0</td>\n",
       "      <td>2012.0</td>\n",
       "      <td>NaN</td>\n",
       "      <td>3.0</td>\n",
       "      <td>2.0</td>\n",
       "    </tr>\n",
       "    <tr>\n",
       "      <th>4</th>\n",
       "      <td>354.0</td>\n",
       "      <td>803.0</td>\n",
       "      <td>172.0</td>\n",
       "      <td>44.1</td>\n",
       "      <td>65.5</td>\n",
       "      <td>21.4</td>\n",
       "      <td>34.0</td>\n",
       "      <td>37.0</td>\n",
       "      <td>3.0</td>\n",
       "      <td>11.0</td>\n",
       "      <td>...</td>\n",
       "      <td>24.0</td>\n",
       "      <td>38.0</td>\n",
       "      <td>3.0</td>\n",
       "      <td>0.0</td>\n",
       "      <td>12.0</td>\n",
       "      <td>0.0</td>\n",
       "      <td>2011.0</td>\n",
       "      <td>NaN</td>\n",
       "      <td>3.0</td>\n",
       "      <td>2.0</td>\n",
       "    </tr>\n",
       "  </tbody>\n",
       "</table>\n",
       "<p>5 rows × 3572 columns</p>\n",
       "</div>"
      ],
      "text/plain": [
       "   AgeDependency_CHILD_CY  AgeDependency_WORKAGE_CY  AgeDependency_SENIOR_CY  \\\n",
       "0                   504.0                    1128.0                    137.0   \n",
       "1                   440.0                    1079.0                    143.0   \n",
       "2                   357.0                     931.0                    221.0   \n",
       "3                   378.0                    1090.0                    192.0   \n",
       "4                   354.0                     803.0                    172.0   \n",
       "\n",
       "   AgeDependency_CHLDDEP_CY  AgeDependency_AGEDEP_CY  \\\n",
       "0                      44.7                     56.8   \n",
       "1                      40.8                     54.0   \n",
       "2                      38.3                     62.1   \n",
       "3                      34.7                     52.3   \n",
       "4                      44.1                     65.5   \n",
       "\n",
       "   AgeDependency_SENRDEP_CY  homevalue_ACSVAL0  homevalue_MOEVAL0  \\\n",
       "0                      12.1                0.0               12.0   \n",
       "1                      13.3               19.0               31.0   \n",
       "2                      23.7                0.0               12.0   \n",
       "3                      17.6               31.0               51.0   \n",
       "4                      21.4               34.0               37.0   \n",
       "\n",
       "   homevalue_RELVAL0  homevalue_ACSVAL10K  ...  yearmovedin_ACSRMV1990  \\\n",
       "0                0.0                  0.0  ...                     9.0   \n",
       "1                3.0                  0.0  ...                    19.0   \n",
       "2                0.0                  0.0  ...                     0.0   \n",
       "3                3.0                  0.0  ...                     0.0   \n",
       "4                3.0                 11.0  ...                    24.0   \n",
       "\n",
       "   yearmovedin_MOERMV1990  yearmovedin_RELRMV1990  yearmovedin_ACSRMV1989  \\\n",
       "0                    15.0                     3.0                     0.0   \n",
       "1                    31.0                     3.0                     0.0   \n",
       "2                    12.0                     0.0                     0.0   \n",
       "3                    12.0                     0.0                     0.0   \n",
       "4                    38.0                     3.0                     0.0   \n",
       "\n",
       "   yearmovedin_MOERMV1989  yearmovedin_RELRMV1989  yearmovedin_ACSMEDYRMV  \\\n",
       "0                    12.0                     0.0                  2010.0   \n",
       "1                    12.0                     0.0                  2009.0   \n",
       "2                    12.0                     0.0                  2007.0   \n",
       "3                    12.0                     0.0                  2012.0   \n",
       "4                    12.0                     0.0                  2011.0   \n",
       "\n",
       "   yearmovedin_MOEMEDYRMV  yearmovedin_RELMEDYRMV  yearmovedin_RELOWNER  \n",
       "0                     NaN                     3.0                   1.0  \n",
       "1                     NaN                     3.0                   2.0  \n",
       "2                     NaN                     3.0                   2.0  \n",
       "3                     NaN                     3.0                   2.0  \n",
       "4                     NaN                     3.0                   2.0  \n",
       "\n",
       "[5 rows x 3572 columns]"
      ]
     },
     "execution_count": 27,
     "metadata": {},
     "output_type": "execute_result"
    }
   ],
   "source": [
    "e_df = pd.DataFrame([r for r in arcpy.da.SearchCursor(str(enrich_fc), analysis_vars)], columns=analysis_vars)\n",
    "\n",
    "e_df.info()\n",
    "e_df.head()"
   ]
  },
  {
   "cell_type": "code",
   "execution_count": 28,
   "metadata": {},
   "outputs": [
    {
     "name": "stdout",
     "output_type": "stream",
     "text": [
      "70\n"
     ]
    }
   ],
   "source": [
    "na_cols = e_df.isna().any()\n",
    "na_cols = na_cols[na_cols].index.values\n",
    "\n",
    "na_df = ev[ev.enrich_field_name.isin(na_cols)].reset_index(drop=True)\n",
    "\n",
    "print(len(na_df.index))"
   ]
  },
  {
   "cell_type": "code",
   "execution_count": 29,
   "metadata": {},
   "outputs": [
    {
     "name": "stdout",
     "output_type": "stream",
     "text": [
      "<class 'pandas.core.frame.DataFrame'>\n",
      "RangeIndex: 2480 entries, 0 to 2479\n",
      "Columns: 3502 entries, AgeDependency_CHILD_CY to yearmovedin_RELOWNER\n",
      "dtypes: float64(3502)\n",
      "memory usage: 66.3 MB\n"
     ]
    }
   ],
   "source": [
    "e_df.dropna(axis=1, inplace=True)\n",
    "\n",
    "e_df.info()"
   ]
  },
  {
   "cell_type": "code",
   "execution_count": 30,
   "metadata": {},
   "outputs": [],
   "source": [
    "sclr = MinMaxScaler()\n",
    "\n",
    "scl_arr = sclr.fit_transform(e_df)"
   ]
  },
  {
   "cell_type": "code",
   "execution_count": 45,
   "metadata": {},
   "outputs": [
    {
     "data": {
      "text/plain": [
       "618"
      ]
     },
     "execution_count": 45,
     "metadata": {},
     "output_type": "execute_result"
    }
   ],
   "source": [
    "pca = PCA()\n",
    "\n",
    "pca.fit(scl_arr)\n",
    "\n",
    "pca_min_variance = 0.95\n",
    "\n",
    "cv = pd.Series(pca.explained_variance_ratio_.cumsum())\n",
    "\n",
    "n_cmpnts = cv[cv > pca_min_variance].index.min() + 1\n",
    "\n",
    "n_cmpnts"
   ]
  },
  {
   "cell_type": "code",
   "execution_count": 32,
   "metadata": {},
   "outputs": [],
   "source": [
    "pca_sel = PCA(n_components=n_cmpnts)\n",
    "\n",
    "cmpnts = pca_sel.fit_transform(scl_arr)"
   ]
  },
  {
   "cell_type": "code",
   "execution_count": 16,
   "metadata": {},
   "outputs": [
    {
     "name": "stderr",
     "output_type": "stream",
     "text": [
      "D:\\Anaconda3\\envs\\arcgis\\lib\\site-packages\\sklearn\\cluster\\_kmeans.py:882: UserWarning: KMeans is known to have a memory leak on Windows with MKL, when there are less chunks than available threads. You can avoid it by setting the environment variable OMP_NUM_THREADS=1.\n",
      "  f\"KMeans is known to have a memory leak on Windows \"\n"
     ]
    },
    {
     "data": {
      "image/png": "[encoded data removed]",
      "text/plain": [
       "<Figure size 1152x576 with 1 Axes>"
      ]
     },
     "metadata": {
      "needs_background": "light"
     },
     "output_type": "display_data"
    }
   ],
   "source": [
    "distortions = []\n",
    "\n",
    "K = range(1, 15)\n",
    "\n",
    "for k in K:\n",
    "    km = KMeans(n_clusters=k)\n",
    "    km.fit(cmpnts)\n",
    "    distortions.append(km.inertia_)\n",
    "    \n",
    "plt.figure(figsize=(16,8))\n",
    "plt.plot(K, distortions, 'bx-')\n",
    "plt.xlabel('k')\n",
    "plt.ylabel('Distortion')\n",
    "plt.title('The Elbow Method showing the optimal k')\n",
    "plt.show()"
   ]
  },
  {
   "cell_type": "code",
   "execution_count": 20,
   "metadata": {},
   "outputs": [
    {
     "name": "stdout",
     "output_type": "stream",
     "text": [
      "Created D:\\projects\\arcgis-demographic-clustering\\data\\interim\\interim.gdb\\thurston_county_block_group_kmeans_02\n",
      "Created D:\\projects\\arcgis-demographic-clustering\\data\\interim\\interim.gdb\\thurston_county_block_group_kmeans_03\n",
      "Created D:\\projects\\arcgis-demographic-clustering\\data\\interim\\interim.gdb\\thurston_county_block_group_kmeans_04\n"
     ]
    }
   ],
   "source": [
    "def get_kmeans(cluster_count):\n",
    "    \n",
    "    km = KMeans(n_clusters=cluster_count, random_state=42)\n",
    "\n",
    "    km.fit_transform(cmpnts)\n",
    "\n",
    "    bg_df = GeoAccessor.from_featureclass(str(enrich_fc), fields=['ID']).rename(columns={'ID': 'id'}).set_index('id').spatial.set_geometry('SHAPE', inplace=False)\n",
    "    bg_df.insert(0, 'kmeans_cluster', km.labels_)\n",
    "\n",
    "    km_fc = bg_df.spatial.to_featureclass(gdb_int/f'{aoi_name}_block_group_kmeans_{cluster_count:02d}')\n",
    "    \n",
    "    print(f'Created {km_fc}')\n",
    "\n",
    "    return km_fc\n",
    "\n",
    "for k in range(2, 5):\n",
    "    get_kmeans(k)"
   ]
  },
  {
   "cell_type": "code",
   "execution_count": null,
   "metadata": {},
   "outputs": [],
   "source": []
  }
 ],
 "metadata": {
  "kernelspec": {
   "display_name": "Python 3",
   "language": "python",
   "name": "python3"
  },
  "language_info": {
   "codemirror_mode": {
    "name": "ipython",
    "version": 3
   },
   "file_extension": ".py",
   "mimetype": "text/x-python",
   "name": "python",
   "nbconvert_exporter": "python",
   "pygments_lexer": "ipython3",
   "version": "3.7.11"
  }
 },
 "nbformat": 4,
 "nbformat_minor": 4
}
